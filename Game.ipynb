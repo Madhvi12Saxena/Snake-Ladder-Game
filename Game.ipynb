{
 "cells": [
  {
   "cell_type": "code",
   "execution_count": null,
   "metadata": {},
   "outputs": [],
   "source": [
    "import random\n",
    "\n",
    "def roll_dice():\n",
    "    return random.randint(1, 6)\n",
    "\n",
    "def play_snake_and_ladder():\n",
    "    players = {\n",
    "        'Player 1': 0,\n",
    "        'Player 2': 0\n",
    "    }\n",
    "    \n",
    "    snakes = {16: 6, 47: 26, 49: 11, 56: 53, 62: 19, 64: 60, 87: 24, 93: 73, 95: 75, 98: 78}\n",
    "    ladders = {1: 38, 4: 14, 9: 31, 21: 42, 28: 84, 36: 44, 51: 67, 71: 91, 80: 100}\n",
    "    \n",
    "    current_player = 'Player 1'\n",
    "    \n",
    "    print(\"Welcome to Snake and Ladder!\")\n",
    "    \n",
    "    while True:\n",
    "        input(f\"{current_player}, press Enter to roll the dice...\")\n",
    "        dice_roll = roll_dice()\n",
    "        \n",
    "        print(f\"{current_player} rolled a {dice_roll}.\")\n",
    "        players[current_player] += dice_roll\n",
    "        \n",
    "        if players[current_player] in snakes:\n",
    "            print(f\"Oops! {current_player} landed on a snake and got moved to {snakes[players[current_player]]}.\")\n",
    "            players[current_player] = snakes[players[current_player]]\n",
    "        elif players[current_player] in ladders:\n",
    "            print(f\"Wow! {current_player} found a ladder and climbed to {ladders[players[current_player]]}.\")\n",
    "            players[current_player] = ladders[players[current_player]]\n",
    "        \n",
    "        print(f\"{current_player} is now at position {players[current_player]}.\")\n",
    "        \n",
    "        if players[current_player] >= 100:\n",
    "            print(f\"Congratulations! {current_player} has won!\")\n",
    "            break\n",
    "        \n",
    "        current_player = 'Player 1' if current_player == 'Player 2' else 'Player 2'\n",
    "\n",
    "if __name__ == \"__main__\":\n",
    "    play_snake_and_ladder()\n"
   ]
  }
 ],
 "metadata": {
  "kernelspec": {
   "display_name": "Python 3",
   "language": "python",
   "name": "python3"
  },
  "language_info": {
   "codemirror_mode": {
    "name": "ipython",
    "version": 3
   },
   "file_extension": ".py",
   "mimetype": "text/x-python",
   "name": "python",
   "nbconvert_exporter": "python",
   "pygments_lexer": "ipython3",
   "version": "3.11.4"
  },
  "orig_nbformat": 4
 },
 "nbformat": 4,
 "nbformat_minor": 2
}
